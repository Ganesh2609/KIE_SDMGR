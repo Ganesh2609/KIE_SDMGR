{
 "cells": [
  {
   "cell_type": "code",
   "execution_count": null,
   "metadata": {},
   "outputs": [],
   "source": [
    "import torch \n",
    "from torch import nn \n",
    "from torchinfo import summary\n",
    "\n",
    "from unet import UNet\n",
    "from VisionModel import VisionModel\n",
    "from transformer import TransformerEncoder\n",
    "from PreprocessingModule import DualityProcessor"
   ]
  },
  {
   "cell_type": "code",
   "execution_count": null,
   "metadata": {},
   "outputs": [],
   "source": [
    "# model = UNet()\n",
    "# summary(model=model,\n",
    "#         input_size=(16, 1, 256, 256),\n",
    "#         col_names=['input_size', 'output_size', 'num_params', 'trainable'],\n",
    "#         col_width=20,\n",
    "#         row_settings=['var_names'])"
   ]
  },
  {
   "cell_type": "code",
   "execution_count": null,
   "metadata": {},
   "outputs": [],
   "source": [
    "# model = VisionModel()\n",
    "# inp = torch.rand(4, 1, 4096, 4096)\n",
    "# rois = torch.tensor([\n",
    "#     [\n",
    "#         [102, 200, 300, 1500, 3500],   # Batch 1, Box 1\n",
    "#         [205, 400, 500, 1800, 3800]    # Batch 1, Box 2\n",
    "#     ],\n",
    "#     [\n",
    "#         [111, 250, 450, 1600, 3200],   # Batch 2, Box 1\n",
    "#         [215, 600, 700, 2000, 3400]    # Batch 2, Box 2\n",
    "#     ],\n",
    "#     [\n",
    "#         [120, 300, 600, 1300, 3100],   # Batch 3, Box 1\n",
    "#         [230, 500, 800, 1700, 3600]    # Batch 3, Box 2\n",
    "#     ],\n",
    "#     [\n",
    "#         [130, 100, 200, 1100, 2100],   # Batch 4, Box 1\n",
    "#         [240, 300, 400, 1200, 2200]    # Batch 4, Box 2\n",
    "#     ]\n",
    "# ])\n",
    "\n",
    "# summary(model=model,\n",
    "#         input_data=(inp, rois),\n",
    "#         col_names=['input_size', 'output_size', 'num_params', 'trainable'],\n",
    "#         col_width=20,\n",
    "#         row_settings=['var_names'])"
   ]
  },
  {
   "cell_type": "code",
   "execution_count": null,
   "metadata": {},
   "outputs": [],
   "source": [
    "# model = TransformerEncoder()\n",
    "# inp = torch.randint(1, 4096, (4, 64, 5))\n",
    "\n",
    "# summary(model=model,\n",
    "#         input_data=inp,\n",
    "#         col_names=['input_size', 'output_size', 'num_params', 'trainable'],\n",
    "#         col_width=20,\n",
    "#         row_settings=['var_names'])"
   ]
  },
  {
   "cell_type": "code",
   "execution_count": null,
   "metadata": {},
   "outputs": [],
   "source": [
    "model = DualityProcessor()\n",
    "img = torch.rand(4, 1, 4096, 4096)\n",
    "rois = torch.tensor([\n",
    "    [\n",
    "        [102, 200, 300, 1500, 3500],   # Batch 1, Box 1\n",
    "        [205, 400, 500, 1800, 3800]    # Batch 1, Box 2\n",
    "    ],\n",
    "    [\n",
    "        [111, 250, 450, 1600, 3200],   # Batch 2, Box 1\n",
    "        [215, 600, 700, 2000, 3400]    # Batch 2, Box 2\n",
    "    ],\n",
    "    [\n",
    "        [120, 300, 600, 1300, 3100],   # Batch 3, Box 1\n",
    "        [230, 500, 800, 1700, 3600]    # Batch 3, Box 2\n",
    "    ],\n",
    "    [\n",
    "        [130, 100, 200, 1100, 2100],   # Batch 4, Box 1\n",
    "        [240, 300, 400, 1200, 2200]    # Batch 4, Box 2\n",
    "    ]\n",
    "])\n",
    "summary(model=model,\n",
    "        input_data=(img, rois),\n",
    "        col_names=['input_size', 'output_size', 'num_params', 'trainable'],\n",
    "        col_width=20,\n",
    "        row_settings=['var_names'])"
   ]
  }
 ],
 "metadata": {
  "kernelspec": {
   "display_name": "TorchEnv2",
   "language": "python",
   "name": "python3"
  },
  "language_info": {
   "codemirror_mode": {
    "name": "ipython",
    "version": 3
   },
   "file_extension": ".py",
   "mimetype": "text/x-python",
   "name": "python",
   "nbconvert_exporter": "python",
   "pygments_lexer": "ipython3",
   "version": "3.12.3"
  }
 },
 "nbformat": 4,
 "nbformat_minor": 2
}
